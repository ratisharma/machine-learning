{
 "cells": [
  {
   "cell_type": "code",
   "execution_count": 1,
   "metadata": {
    "collapsed": true
   },
   "outputs": [],
   "source": [
    "import os\n",
    "import pandas as pd"
   ]
  },
  {
   "cell_type": "code",
   "execution_count": 2,
   "metadata": {
    "collapsed": false
   },
   "outputs": [],
   "source": [
    "seq_dir = '/Users/ratisharma/Documents/machine_learning_projects/PA01'\n",
    "seq_file = 'Pseudomonas_aeruginosa_PAO1_107.txt'\n",
    "fpath = os.path.join(seq_dir, seq_file)"
   ]
  },
  {
   "cell_type": "code",
   "execution_count": 3,
   "metadata": {
    "collapsed": true
   },
   "outputs": [],
   "source": [
    "fseq = open(fpath, 'r')"
   ]
  },
  {
   "cell_type": "code",
   "execution_count": 4,
   "metadata": {
    "collapsed": true
   },
   "outputs": [],
   "source": [
    "def find_between( s, first, last ):\n",
    "    try:\n",
    "        start = s.index( first ) + len( first )\n",
    "        end = s.index( last, start )\n",
    "        return s[start:end]\n",
    "    except ValueError:\n",
    "        return \"\""
   ]
  },
  {
   "cell_type": "code",
   "execution_count": 5,
   "metadata": {
    "collapsed": true
   },
   "outputs": [],
   "source": [
    "genes = []\n",
    "seq = []\n",
    "for num,line in enumerate(fseq):\n",
    "    if num%2==0:\n",
    "        g = find_between(line, '>', ' ')\n",
    "        genes.append(g)\n",
    "    else:\n",
    "        seq.append(line)"
   ]
  },
  {
   "cell_type": "code",
   "execution_count": 6,
   "metadata": {
    "collapsed": false
   },
   "outputs": [],
   "source": [
    "gene_seq_data = list(zip(genes,seq))"
   ]
  },
  {
   "cell_type": "code",
   "execution_count": 7,
   "metadata": {
    "collapsed": false
   },
   "outputs": [
    {
     "name": "stdout",
     "output_type": "stream",
     "text": [
      "[('PA0001', 'GTGTCCGTGGAACTTTGGCAGCAGTGCGTGGATCTTCTCCGCGATGAGCTGCCGTCCCAACAATTCAACACCTGGATCCGTCCCTTGCAGGTCGAAGCCGAAGGCGACGAATTGCGTGTGTATGCACCCAACCGTTTCGTCCTCGATTGGGTGAACGAGAAATACCTCGGTCGGCTTCTGGAACTGCTCGGTGAACGCGGCGAGGGTCAGTTGCCCGCGCTTTCCTTATTAATAGGCAGCAAGCGTAGCCGTACGCCGCGCGCCGCCATCGTCCCATCGCAGACCCACGTGGCTCCCCCGCCTCCGGTTGCTCCGCCGCCGGCGCCAGTGCAGCCGGTATCGGCCGCGCCCGTGGTAGTGCCACGTGAAGAGCTGCCGCCAGTGACGACGGCTCCCAGCGTGTCGAGCGATCCCTACGAGCCGGAAGAACCCAGCATCGATCCGCTGGCCGCCGCCATGCCGGCTGGAGCAGCGCCTGCGGTGCGCACCGAGCGCAACGTCCAGGTCGAAGGTGCGCTGAAGCACACCAGCTATCTCAACCGTACCTTCACCTTCGAGAACTTCGTCGAGGGCAAGTCCAACCAGTTGGCCCGCGCCGCCGCCTGGCAGGTGGCGGACAACCTCAAGCACGGCTACAACCCGCTGTTCCTCTACGGTGGCGTCGGTCTGGGCAAGACCCACCTGATGCATGCGGTGGGCAACCACCTGCTGAAGAAGAACCCGAACGCCAAGGTGGTCTACCTGCATTCGGAACGTTTCGTCGCGGACATGGTGAAGGCCTTGCAGCTCAACGCCATCAACGAATTCAAGCGCTTCTACCGCTCGGTGGACGCACTGTTGATCGACGACATCCAGTTCTTCGCCCGTAAGGAGCGCTCCCAGGAGGAGTTCTTCCACACCTTCAATGCCCTTCTCGAAGGCGGCCAGCAGGTGATCCTCACCAGCGACCGCTATCCGAAGGAAATCGAAGGCCTGGAAGAGCGGCTGAAATCCCGCTTCGGCTGGGGCCTGACGGTGGCCGTCGAGCCGCCGGAACTGGAAACCCGGGTGGCGATCCTGATGAAGAAGGCCGAGCAGGCGAAGATCGAGCTGCCGCACGATGCGGCCTTCTTCATCGCCCAGCGCATCCGTTCCAACGTGCGTGAACTGGAAGGTGCGCTGAAGCGGGTGATCGCCCACTCGCACTTCATGGGCCGGCCGATCACCATCGAGCTGATTCGCGAGTCGCTGAAGGACCTGTTGGCCCTTCAGGACAAGCTGGTCAGCATCGACAACATCCAGCGCACCGTCGCCGAGTACTACAAGATCAAGATATCCGATCTGTTGTCCAAGCGGCGTTCGCGCTCGGTGGCGCGCCCGCGCCAGGTGGCCATGGCGCTCTCCAAGGAGCTGACCAACCACAGCCTGCCGGAGATCGGCGTGGCCTTCGGCGGTCGGGATCACACCACGGTGTTGCACGCCTGTCGTAAGATCGCTCAACTTAGGGAATCCGACGCGGATATCCGCGAGGACTACAAGAACCTGCTGCGTACCCTGACAACCTGA\\n'), ('PA0002', 'ATGCATTTCACCATTCAACGCGAAGCCCTGTTGAAACCGCTGCAACTGGTCGCCGGCGTCGTGGAACGCCGCCAGACATTGCCGGTTCTCTCCAACGTCCTGCTGGTGGTCGAAGGCCAGCAACTGTCGCTGACCGGCACCGACCTCGAAGTCGAGCTGGTTGGTCGCGTGGTACTGGAAGATGCCGCCGAACCCGGCGAGATCACCGTACCGGCGCGCAAGCTGATGGACATCTGCAAGAGCCTGCCGAACGACGTGCTGATCGACATCCGTGTCGAAGAGCAGAAACTTCTGGTGAAGGCCGGGCGTAGCCGCTTCACCCTGTCCACCCTGCCGGCCAACGATTTCCCCACCGTAGAGGAAGGTCCCGGCTCGCTGAACTTCAGCATTGCCCAGAGCAAGCTGCGTCGCCTGATCGACCGCACCAGCTTCGCCATGGCCCAGCAGGACGTGCGTTACTACCTCAACGGCATGCTGCTGGAAGTGAACGGCGGCACCCTGCGCTCCGTCGCCACCGACGGCCACCGACTGGCCATGTGCTCGCTGGATGCGCAGATCCCGTCGCAGGACCGCCACCAGGTGATCGTGCCGCGCAAAGGCATCCTCGAACTGGCTCGTCTGCTCACCGAGCAGGACGGCGAAGTCGGCATCGTCCTGGGCCAGCACCATATCCGTGCCACCACTGGCGAATTCACCTTCACTTCGAAGCTGGTGGACGGCAAGTTCCCGGACTACGAGCGTGTACTGCCGCGCGGTGGCGACAAGCTGGTGGTCGGTGACCGCCAGCAACTGCGCGAAGCCTTCAGCCGTACCGCGATCCTCTCCAACGAGAAGTACCGCGGCATTCGCCTGCAGCTTTCCAACGGTTTGCTGAAAATCCAGGCGAACAACCCGGAGCAGGAAGAGGCCGAGGAAGAAGTGCAGGTCGAGTACAACGGCGGCAACCTGGAGATAGGCTTCAACGTCAGTTACCTGCTCGACGTGCTGGGTGTGATCGGTACCGAGCAGGTCCGCTTCATCCTTTCCGATTCCAACAGCAGCGCCCTGGTCCACGAGGCCGACAATGACGATTCTGCCTATGTCGTCATGCCGATGCGCCTCTAA\\n'), ('PA0003', 'ATGTCCCTGACCCGCGTTTCGGTCACCGCGGTGCGCAACCTGCACCCGGTGACCCTCTCCCCCTCCCCCCGCATCAACATCCTCTACGGCGACAACGGCAGCGGCAAGACCAGCGTGCTCGAAGCCATCCACCTGCTGGGCCTGGCGCGTTCATTCCGCAGTGCGCGCTTGCAGCCGGTGATCCAGTATGAGGAAGCGGCCTGCACCGTATTCGGCCAGGTGATGTTGGCCAACGGCATCGCCAGCAACCTGGGGATTTCCCGTGAGCGCCAGGGCGAGTTCACCATCCGCATCGATGGGCAGAACGCCCGGAGTGCGGCTCAATTGGCGGAAACTCTCCCACTGCAACTGATCAACCCGGACAGCTTTCGGTTGCTCGAGGGAGCGCCGAAGATCCGGCGACAGTTCCTCGATTGGGGAGTGTTCCACGTGGAACCTCGGTTTCTGCCCGTCTGGCAGCGCCTGCAGAAGGCGCTGCGCCAGCGGAACTCCTGGCTCCGGCATGGTAAACTGGACCCCGCGTCGCAAGCGGCCTGGGACCGGGAATTGAGCCTGGCCAGCGATGAGATCGATGCCTACCGCAGAAGCTATATCCAGGCGTTGAAACCGGTATTCGAGGAAACACTCGCCGAATTGGTTTCACTGGATGACCTGACCCTTAGCTACTACCGAGGCTGGGACAAGGACCGGGACCTCCTGGAGGTTCTGGCTTCCAGCCTGTTGCGCGACCAGCAGATGGGCCACACCCAGGCGGGACCGCAGCGTGCGGATCTTCGCATACGGTTGGCAGGTCATAACGCCGCGGAGATTCTCTCGCGCGGTCAGCAGAAGCTGGTGGTATGCGCCCTGCGCATCGCCCAAGGCCATCTGATCAATCGCGCCAAGCGCGGACAGTGCGTCTACCTGGTGGACGACCTGCCCTCGGAACTGGATGAGCAGCATCGAATGGCTCTTTGCCGCTTGCTTGAAGATTTGGGTTGCCAGGTATTCATCACCTGCGTGGACCCGCAACTATTGAAAGACGGCTGGCGCACGGATACGCCGGTATCCATGTTCCACGTGGAACATGGAAAAGTCTCTCAGACCACGACCATCGGGAGTGAAGCATGA\\n'), ('PA0004', 'ATGAGCGAGAACAACACGTACGACTCTTCCAGCATCAAGGTGCTGAAGGGGCTGGATGCCGTACGCAAGCGCCCCGGCATGTACATCGGCGACACCGACGATGGCACCGGTCTGCACCACATGGTGTTCGAGGTGGTGGATAACTCCATCGACGAAGCGCTGGCCGGTTACTGCAGCGAAATCAGCATCACCATCCATACGGATGAGTCGATCACTGTCCGCGACAATGGACGCGGTATTCCGGTGGATATCCACAAGGAAGAAGGGGTTTCTGCGGCGGAAGTGATCATGACCGTCCTCCACGCCGGCGGCAAGTTCGACGACAACACCTACAAGGTGTCCGGCGGCTTGCACGGTGTGGGCGTCTCGGTGGTGAACGCGCTGTCCCATGAACTACGCCTGACCATCCGTCGCCACAACAAGGTCTGGGAACAGGTCTACCACCACGGCGTTCCGCAGTTCCCACTGCGCGAAGTGGGCGAGACCGATGGCTCCGGCACCGAAGTTCACTTCAAGCCGTCCCCGGAGACCTTCAGCAACATCCACTTCAGTTGGGACATCCTGGCCAAGCGCATCCGCGAGCTGTCCTTCCTCAACTCCGGCGTCGGCATCCTGCTGCGCGACGAGCGTACCGGCAAGGAGGAGCTGTTCAAGTACGAAGGCGGTCTGAAGGCCTTCGTCGAGTACCTGAACACCAACAAGACCGCGGTGAACGAGGTATTCCACTTCAACGTCCAGCGTGAAGAGGACGGCGTGGGTGTGGAAGTCGCCTTGCAGTGGAACGACAGCTTCAACGAGAACCTGCTCTGCTTCACCAACAACATCCCGCAGCGTGACGGCGGCACCCACCTGGCCGGTTTCCGTTCGGCGCTGACGCGTAACCTGAACAACTACATCGAGGCCGAAGGCCTGGCGAAGAAGTTCAAGATCGCCACCACCGGCGACGATGCCCGCGAAGGCCTCACCGCGATCATCTCGGTGAAGGTACCGGACCCGAAGTTCAGCTCGCAGACCAAGGACAAGCTGGTCTCCTCCGAGGTGAAGACTGCGGTGGAACAGGAGATGGGCAAGTACTTCGCCGACTTCCTGCTGGAGAATCCCAACGAAGCCAAGGCCGTGGTCGGCAAGATGATCGACGCCGCCCGTGCCCGCGAGGCCGCGCGCAAGGCGCGCGAGATGACCCGCCGCAAGGGCGCGCTGGACATCGCCGGCCTGCCCGGCAAACTGGCCGATTGCCAGGAAAAGGACCCGGCGCTCTCCGAACTGTACATCGTGGAGGGTGACTCCGCGGGCGGTTCCGCCAAGCAGGGCCGCAATCGCCGGACCCAGGCGATCCTGCCGCTCAAGGGCAAGATCCTCAACGTCGAAAAGGCGCGCTTCGACAAGATGCTCTCCTCCCAGGAGGTCGGTACGCTGATCACCGCCCTGGGCTGTGGCATCGGCCGCGAGGAATACAACATCGACAAGCTGCGCTACCACAACATCATCATCATGACCGATGCTGACGTCGACGGTTCGCACATCCGCACCCTGCTGTTGACCTTCTTCTTCCGCCAGATGCCCGAGCTGATCGAGCGTGGCTACATCTACATCGCCCAGCCCCCGTTGTACAAGGTCAAGCGCGGCAAGCAGGAGCAGTACATCAAGGACGACCAGGCCATGGAAGAGTACATGACCCAGTCGGCCCTGGAAGACGCCAGCCTGCACGTCAACGAGCACGCTCCGGGCCTGTCCGGGGCGGCGCTGGAGAAACTGGTCAACGAGTATCGCGGGGTGATCGCCACCCTCAAGCGCCTGTCGCGCCTGTACCCCCAGGAGCTGACCGAGCACTTCATCTACCTGCCTACCGTGTCGGTGGACGACCTGGCTAACGAGTCGGCCATGCAGGGCTGGTTGGAGAAGTTCCAGGCGCGCCTGACCGCCGCCGAGAAGTCCGGCCTGACCTACAAGGCCAGCCTGCGCGAAGACCGCGAGCGCCACCTGTGGCTGCCCGAGGTGGAACTGGTGGCCCACGGCCTGTCCAGCTACGTCACCTTCAACCGTGACTTCTTCGCCAGCAATGACTACCGCTCGGTGTCGCTGCTCGGCGACCAGCTGAACAGCCTGCTGGAAGACGGCGCCTACGTGCAGAAGGGTGAGCGCAAGCGCCCGATCAGCGCCTTCAAGGACGGCCTGGACTGGCTGATGGCCGAAGGTACCAAGCGCCACAGCATCCAGCGATACAAGGGGCTGGGCGAGATGAACCCTGAGCAGCTGTGGGAAACCACCATGGATCCGAACGTCCGGCGCATGCTCAAGGTGACCATCGAGGATGCCATCGCCGCCGACCAGATCTTCAACACCCTGATGGGCGATGCCGTGGAGCCGCGCCGCGACTTCATCGAAAGCAACGCGCTGGCGGTGTCGAACCTGGACGTGTGA\\n'), ('PA0005', 'ATGTCGACAGTGCAGGCCATCAGAACCGTCCTCTTTTACCTGCTGCTGTCCGCCAGCGCGTTCGTCTGGGGCACCCTCAGCTTCTTCATCGCGCCGATCCTGCCGTTCCGCGCCCGCTACCGCTTCGTGGTACAGAACTGGTGCCGCTTCGCGATCTGGCTGACCCGCGTGGTCGCCGGCATCCGCTACGAGGTGCGCGGACTGGAGAACATCCCGGAAAAGCCCTGCGTGATCCTCTCCAAGCACCAGAGCACCTGGGAAACCTTCTTCCTCTCCGGCTTCTTCGAGCCACTCAGCCAGGTACTCAAGCGCGAGCTGCTCTACGTGCCGTTCTTCGGCTGGGCCCTGGCCCTGCTCAAGCCCATCGCCATCGACCGCAGCCAGCCCAAGCTGGCCCTCAAGCAACTGGCCAAGCAGGGCGACGAGTGCCTGAAGAAAGGCGCCTGGGTGCTGATCTTCCCGGAAGGCACGCGTATTCCGGTGGGGCAGATGGGCAAGTTCTCCCGCGGCGGCACCGCCCTGGCGGTCAACGCCGGGCTACCGGTACTGCCGATCGCCCACAACGCCGGGCAGTATTGGCCCAAGGCCGGCTGGGCCAAGTACCCGGGCACCATCCAGGTGGTGATCGGCCCGGCCATGCACGCCGAAGGCGAAGGCCCGCGCGCCATCGCCGAGCTAAACCAGCGCGCCGAAGCCTGGGTCAGCGAGACCATGGCCGAGATCAGCCCCATCCAGCAGCGGGTCAGCCATCCGGAGCCGTCGGTGGTCTCGTGA\\n')]\n"
     ]
    }
   ],
   "source": [
    "print gene_seq_data[:5]"
   ]
  },
  {
   "cell_type": "code",
   "execution_count": 8,
   "metadata": {
    "collapsed": false
   },
   "outputs": [
    {
     "data": {
      "text/html": [
       "<div>\n",
       "<style>\n",
       "    .dataframe thead tr:only-child th {\n",
       "        text-align: right;\n",
       "    }\n",
       "\n",
       "    .dataframe thead th {\n",
       "        text-align: left;\n",
       "    }\n",
       "\n",
       "    .dataframe tbody tr th {\n",
       "        vertical-align: top;\n",
       "    }\n",
       "</style>\n",
       "<table border=\"1\" class=\"dataframe\">\n",
       "  <thead>\n",
       "    <tr style=\"text-align: right;\">\n",
       "      <th></th>\n",
       "      <th>GeneID</th>\n",
       "      <th>Sequence</th>\n",
       "    </tr>\n",
       "  </thead>\n",
       "  <tbody>\n",
       "    <tr>\n",
       "      <th>0</th>\n",
       "      <td>PA0001</td>\n",
       "      <td>GTGTCCGTGGAACTTTGGCAGCAGTGCGTGGATCTTCTCCGCGATG...</td>\n",
       "    </tr>\n",
       "    <tr>\n",
       "      <th>1</th>\n",
       "      <td>PA0002</td>\n",
       "      <td>ATGCATTTCACCATTCAACGCGAAGCCCTGTTGAAACCGCTGCAAC...</td>\n",
       "    </tr>\n",
       "    <tr>\n",
       "      <th>2</th>\n",
       "      <td>PA0003</td>\n",
       "      <td>ATGTCCCTGACCCGCGTTTCGGTCACCGCGGTGCGCAACCTGCACC...</td>\n",
       "    </tr>\n",
       "    <tr>\n",
       "      <th>3</th>\n",
       "      <td>PA0004</td>\n",
       "      <td>ATGAGCGAGAACAACACGTACGACTCTTCCAGCATCAAGGTGCTGA...</td>\n",
       "    </tr>\n",
       "    <tr>\n",
       "      <th>4</th>\n",
       "      <td>PA0005</td>\n",
       "      <td>ATGTCGACAGTGCAGGCCATCAGAACCGTCCTCTTTTACCTGCTGC...</td>\n",
       "    </tr>\n",
       "  </tbody>\n",
       "</table>\n",
       "</div>"
      ],
      "text/plain": [
       "   GeneID                                           Sequence\n",
       "0  PA0001  GTGTCCGTGGAACTTTGGCAGCAGTGCGTGGATCTTCTCCGCGATG...\n",
       "1  PA0002  ATGCATTTCACCATTCAACGCGAAGCCCTGTTGAAACCGCTGCAAC...\n",
       "2  PA0003  ATGTCCCTGACCCGCGTTTCGGTCACCGCGGTGCGCAACCTGCACC...\n",
       "3  PA0004  ATGAGCGAGAACAACACGTACGACTCTTCCAGCATCAAGGTGCTGA...\n",
       "4  PA0005  ATGTCGACAGTGCAGGCCATCAGAACCGTCCTCTTTTACCTGCTGC..."
      ]
     },
     "execution_count": 8,
     "metadata": {},
     "output_type": "execute_result"
    }
   ],
   "source": [
    "df = pd.DataFrame(gene_seq_data, columns = ['GeneID', 'Sequence'])\n",
    "df.head()"
   ]
  },
  {
   "cell_type": "code",
   "execution_count": 9,
   "metadata": {
    "collapsed": false
   },
   "outputs": [
    {
     "data": {
      "text/plain": [
       "(5698, 2)"
      ]
     },
     "execution_count": 9,
     "metadata": {},
     "output_type": "execute_result"
    }
   ],
   "source": [
    "df.shape"
   ]
  },
  {
   "cell_type": "code",
   "execution_count": 11,
   "metadata": {
    "collapsed": false
   },
   "outputs": [
    {
     "data": {
      "text/html": [
       "<div>\n",
       "<style>\n",
       "    .dataframe thead tr:only-child th {\n",
       "        text-align: right;\n",
       "    }\n",
       "\n",
       "    .dataframe thead th {\n",
       "        text-align: left;\n",
       "    }\n",
       "\n",
       "    .dataframe tbody tr th {\n",
       "        vertical-align: top;\n",
       "    }\n",
       "</style>\n",
       "<table border=\"1\" class=\"dataframe\">\n",
       "  <thead>\n",
       "    <tr style=\"text-align: right;\">\n",
       "      <th></th>\n",
       "      <th>GeneID</th>\n",
       "      <th>Sequence</th>\n",
       "      <th>interaction</th>\n",
       "    </tr>\n",
       "  </thead>\n",
       "  <tbody>\n",
       "    <tr>\n",
       "      <th>0</th>\n",
       "      <td>PA0001</td>\n",
       "      <td>GTGTCCGTGGAACTTTGGCAGCAGTGCGTGGATCTTCTCCGCGATG...</td>\n",
       "      <td>1</td>\n",
       "    </tr>\n",
       "    <tr>\n",
       "      <th>1</th>\n",
       "      <td>PA0002</td>\n",
       "      <td>ATGCATTTCACCATTCAACGCGAAGCCCTGTTGAAACCGCTGCAAC...</td>\n",
       "      <td>1</td>\n",
       "    </tr>\n",
       "    <tr>\n",
       "      <th>2</th>\n",
       "      <td>PA0003</td>\n",
       "      <td>ATGTCCCTGACCCGCGTTTCGGTCACCGCGGTGCGCAACCTGCACC...</td>\n",
       "      <td>1</td>\n",
       "    </tr>\n",
       "    <tr>\n",
       "      <th>3</th>\n",
       "      <td>PA0004</td>\n",
       "      <td>ATGAGCGAGAACAACACGTACGACTCTTCCAGCATCAAGGTGCTGA...</td>\n",
       "      <td>1</td>\n",
       "    </tr>\n",
       "    <tr>\n",
       "      <th>4</th>\n",
       "      <td>PA0005</td>\n",
       "      <td>ATGTCGACAGTGCAGGCCATCAGAACCGTCCTCTTTTACCTGCTGC...</td>\n",
       "      <td>1</td>\n",
       "    </tr>\n",
       "  </tbody>\n",
       "</table>\n",
       "</div>"
      ],
      "text/plain": [
       "   GeneID                                           Sequence  interaction\n",
       "0  PA0001  GTGTCCGTGGAACTTTGGCAGCAGTGCGTGGATCTTCTCCGCGATG...            1\n",
       "1  PA0002  ATGCATTTCACCATTCAACGCGAAGCCCTGTTGAAACCGCTGCAAC...            1\n",
       "2  PA0003  ATGTCCCTGACCCGCGTTTCGGTCACCGCGGTGCGCAACCTGCACC...            1\n",
       "3  PA0004  ATGAGCGAGAACAACACGTACGACTCTTCCAGCATCAAGGTGCTGA...            1\n",
       "4  PA0005  ATGTCGACAGTGCAGGCCATCAGAACCGTCCTCTTTTACCTGCTGC...            1"
      ]
     },
     "execution_count": 11,
     "metadata": {},
     "output_type": "execute_result"
    }
   ],
   "source": [
    "pos = [1]*5698\n",
    "df['interaction'] = pos\n",
    "df.head()"
   ]
  },
  {
   "cell_type": "code",
   "execution_count": 15,
   "metadata": {
    "collapsed": false
   },
   "outputs": [],
   "source": [
    "df = df.drop('interaction', axis=1)"
   ]
  },
  {
   "cell_type": "code",
   "execution_count": 16,
   "metadata": {
    "collapsed": false
   },
   "outputs": [
    {
     "data": {
      "text/html": [
       "<div>\n",
       "<style>\n",
       "    .dataframe thead tr:only-child th {\n",
       "        text-align: right;\n",
       "    }\n",
       "\n",
       "    .dataframe thead th {\n",
       "        text-align: left;\n",
       "    }\n",
       "\n",
       "    .dataframe tbody tr th {\n",
       "        vertical-align: top;\n",
       "    }\n",
       "</style>\n",
       "<table border=\"1\" class=\"dataframe\">\n",
       "  <thead>\n",
       "    <tr style=\"text-align: right;\">\n",
       "      <th></th>\n",
       "      <th>GeneID</th>\n",
       "      <th>Sequence</th>\n",
       "    </tr>\n",
       "  </thead>\n",
       "  <tbody>\n",
       "    <tr>\n",
       "      <th>0</th>\n",
       "      <td>PA0001</td>\n",
       "      <td>GTGTCCGTGGAACTTTGGCAGCAGTGCGTGGATCTTCTCCGCGATG...</td>\n",
       "    </tr>\n",
       "    <tr>\n",
       "      <th>1</th>\n",
       "      <td>PA0002</td>\n",
       "      <td>ATGCATTTCACCATTCAACGCGAAGCCCTGTTGAAACCGCTGCAAC...</td>\n",
       "    </tr>\n",
       "    <tr>\n",
       "      <th>2</th>\n",
       "      <td>PA0003</td>\n",
       "      <td>ATGTCCCTGACCCGCGTTTCGGTCACCGCGGTGCGCAACCTGCACC...</td>\n",
       "    </tr>\n",
       "    <tr>\n",
       "      <th>3</th>\n",
       "      <td>PA0004</td>\n",
       "      <td>ATGAGCGAGAACAACACGTACGACTCTTCCAGCATCAAGGTGCTGA...</td>\n",
       "    </tr>\n",
       "    <tr>\n",
       "      <th>4</th>\n",
       "      <td>PA0005</td>\n",
       "      <td>ATGTCGACAGTGCAGGCCATCAGAACCGTCCTCTTTTACCTGCTGC...</td>\n",
       "    </tr>\n",
       "  </tbody>\n",
       "</table>\n",
       "</div>"
      ],
      "text/plain": [
       "   GeneID                                           Sequence\n",
       "0  PA0001  GTGTCCGTGGAACTTTGGCAGCAGTGCGTGGATCTTCTCCGCGATG...\n",
       "1  PA0002  ATGCATTTCACCATTCAACGCGAAGCCCTGTTGAAACCGCTGCAAC...\n",
       "2  PA0003  ATGTCCCTGACCCGCGTTTCGGTCACCGCGGTGCGCAACCTGCACC...\n",
       "3  PA0004  ATGAGCGAGAACAACACGTACGACTCTTCCAGCATCAAGGTGCTGA...\n",
       "4  PA0005  ATGTCGACAGTGCAGGCCATCAGAACCGTCCTCTTTTACCTGCTGC..."
      ]
     },
     "execution_count": 16,
     "metadata": {},
     "output_type": "execute_result"
    }
   ],
   "source": [
    "df.head()"
   ]
  },
  {
   "cell_type": "code",
   "execution_count": 17,
   "metadata": {
    "collapsed": true
   },
   "outputs": [],
   "source": [
    "fseq.close()"
   ]
  },
  {
   "cell_type": "code",
   "execution_count": 41,
   "metadata": {
    "collapsed": true
   },
   "outputs": [],
   "source": [
    "int_file = 'PseudomonasNet.v1.benchmark.txt'\n",
    "intpath = os.path.join(seq_dir, int_file)\n",
    "fint = open(intpath, 'r')"
   ]
  },
  {
   "cell_type": "code",
   "execution_count": 42,
   "metadata": {
    "collapsed": false
   },
   "outputs": [],
   "source": [
    "df_int = pd.read_table(fint, names = ['geneID1', 'geneID2'])"
   ]
  },
  {
   "cell_type": "code",
   "execution_count": 43,
   "metadata": {
    "collapsed": false
   },
   "outputs": [
    {
     "data": {
      "text/html": [
       "<div>\n",
       "<style>\n",
       "    .dataframe thead tr:only-child th {\n",
       "        text-align: right;\n",
       "    }\n",
       "\n",
       "    .dataframe thead th {\n",
       "        text-align: left;\n",
       "    }\n",
       "\n",
       "    .dataframe tbody tr th {\n",
       "        vertical-align: top;\n",
       "    }\n",
       "</style>\n",
       "<table border=\"1\" class=\"dataframe\">\n",
       "  <thead>\n",
       "    <tr style=\"text-align: right;\">\n",
       "      <th></th>\n",
       "      <th>geneID1</th>\n",
       "      <th>geneID2</th>\n",
       "    </tr>\n",
       "  </thead>\n",
       "  <tbody>\n",
       "    <tr>\n",
       "      <th>0</th>\n",
       "      <td>PA0001</td>\n",
       "      <td>PA0002</td>\n",
       "    </tr>\n",
       "    <tr>\n",
       "      <th>1</th>\n",
       "      <td>PA0001</td>\n",
       "      <td>PA0003</td>\n",
       "    </tr>\n",
       "    <tr>\n",
       "      <th>2</th>\n",
       "      <td>PA0001</td>\n",
       "      <td>PA0004</td>\n",
       "    </tr>\n",
       "    <tr>\n",
       "      <th>3</th>\n",
       "      <td>PA0001</td>\n",
       "      <td>PA0010</td>\n",
       "    </tr>\n",
       "    <tr>\n",
       "      <th>4</th>\n",
       "      <td>PA0001</td>\n",
       "      <td>PA0357</td>\n",
       "    </tr>\n",
       "  </tbody>\n",
       "</table>\n",
       "</div>"
      ],
      "text/plain": [
       "  geneID1 geneID2\n",
       "0  PA0001  PA0002\n",
       "1  PA0001  PA0003\n",
       "2  PA0001  PA0004\n",
       "3  PA0001  PA0010\n",
       "4  PA0001  PA0357"
      ]
     },
     "execution_count": 43,
     "metadata": {},
     "output_type": "execute_result"
    }
   ],
   "source": [
    "df_int.head()"
   ]
  },
  {
   "cell_type": "code",
   "execution_count": 44,
   "metadata": {
    "collapsed": true
   },
   "outputs": [],
   "source": [
    "fint.close()"
   ]
  },
  {
   "cell_type": "code",
   "execution_count": 45,
   "metadata": {
    "collapsed": true
   },
   "outputs": [],
   "source": [
    "df.to_csv('gene_seq.csv')"
   ]
  },
  {
   "cell_type": "code",
   "execution_count": 46,
   "metadata": {
    "collapsed": true
   },
   "outputs": [],
   "source": [
    "df_int.to_csv('gene_int.csv')"
   ]
  },
  {
   "cell_type": "code",
   "execution_count": 49,
   "metadata": {
    "collapsed": false
   },
   "outputs": [
    {
     "data": {
      "text/plain": [
       "(16062, 2)"
      ]
     },
     "execution_count": 49,
     "metadata": {},
     "output_type": "execute_result"
    }
   ],
   "source": [
    "df_int.shape"
   ]
  },
  {
   "cell_type": "code",
   "execution_count": 50,
   "metadata": {
    "collapsed": false
   },
   "outputs": [
    {
     "data": {
      "text/html": [
       "<div>\n",
       "<style>\n",
       "    .dataframe thead tr:only-child th {\n",
       "        text-align: right;\n",
       "    }\n",
       "\n",
       "    .dataframe thead th {\n",
       "        text-align: left;\n",
       "    }\n",
       "\n",
       "    .dataframe tbody tr th {\n",
       "        vertical-align: top;\n",
       "    }\n",
       "</style>\n",
       "<table border=\"1\" class=\"dataframe\">\n",
       "  <thead>\n",
       "    <tr style=\"text-align: right;\">\n",
       "      <th></th>\n",
       "      <th>geneID1</th>\n",
       "      <th>geneID2</th>\n",
       "      <th>interaction</th>\n",
       "    </tr>\n",
       "  </thead>\n",
       "  <tbody>\n",
       "    <tr>\n",
       "      <th>0</th>\n",
       "      <td>PA0001</td>\n",
       "      <td>PA0002</td>\n",
       "      <td>1</td>\n",
       "    </tr>\n",
       "    <tr>\n",
       "      <th>1</th>\n",
       "      <td>PA0001</td>\n",
       "      <td>PA0003</td>\n",
       "      <td>1</td>\n",
       "    </tr>\n",
       "    <tr>\n",
       "      <th>2</th>\n",
       "      <td>PA0001</td>\n",
       "      <td>PA0004</td>\n",
       "      <td>1</td>\n",
       "    </tr>\n",
       "    <tr>\n",
       "      <th>3</th>\n",
       "      <td>PA0001</td>\n",
       "      <td>PA0010</td>\n",
       "      <td>1</td>\n",
       "    </tr>\n",
       "    <tr>\n",
       "      <th>4</th>\n",
       "      <td>PA0001</td>\n",
       "      <td>PA0357</td>\n",
       "      <td>1</td>\n",
       "    </tr>\n",
       "  </tbody>\n",
       "</table>\n",
       "</div>"
      ],
      "text/plain": [
       "  geneID1 geneID2  interaction\n",
       "0  PA0001  PA0002            1\n",
       "1  PA0001  PA0003            1\n",
       "2  PA0001  PA0004            1\n",
       "3  PA0001  PA0010            1\n",
       "4  PA0001  PA0357            1"
      ]
     },
     "execution_count": 50,
     "metadata": {},
     "output_type": "execute_result"
    }
   ],
   "source": [
    "int_label = [1]*16062\n",
    "df_int['interaction'] = int_label\n",
    "df_int.head()"
   ]
  },
  {
   "cell_type": "code",
   "execution_count": 51,
   "metadata": {
    "collapsed": true
   },
   "outputs": [],
   "source": [
    "df_int.to_csv('gene_int.csv')"
   ]
  },
  {
   "cell_type": "code",
   "execution_count": null,
   "metadata": {
    "collapsed": true
   },
   "outputs": [],
   "source": []
  }
 ],
 "metadata": {
  "anaconda-cloud": {},
  "kernelspec": {
   "display_name": "Python [Root]",
   "language": "python",
   "name": "Python [Root]"
  },
  "language_info": {
   "codemirror_mode": {
    "name": "ipython",
    "version": 2
   },
   "file_extension": ".py",
   "mimetype": "text/x-python",
   "name": "python",
   "nbconvert_exporter": "python",
   "pygments_lexer": "ipython2",
   "version": "2.7.12"
  }
 },
 "nbformat": 4,
 "nbformat_minor": 0
}
