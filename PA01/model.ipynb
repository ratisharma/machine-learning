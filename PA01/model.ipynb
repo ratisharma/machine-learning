{
 "cells": [
  {
   "cell_type": "code",
   "execution_count": 31,
   "metadata": {
    "collapsed": true
   },
   "outputs": [],
   "source": [
    "%matplotlib inline\n",
    "import pandas as pd\n",
    "import numpy as np\n",
    "from sklearn.model_selection import train_test_split\n",
    "import matplotlib.pyplot as plt\n",
    "\n",
    "from sklearn.linear_model import LogisticRegression\n",
    "from sklearn.naive_bayes import GaussianNB\n",
    "from sklearn.ensemble import RandomForestClassifier\n",
    "from sklearn.ensemble import VotingClassifier\n",
    "from sklearn import svm\n",
    "\n",
    "from sklearn.metrics import roc_curve, auc\n",
    "from sklearn.model_selection import StratifiedKFold, KFold\n",
    "from sklearn.metrics import accuracy_score\n",
    "from sklearn.model_selection import cross_val_score\n",
    "from sklearn.model_selection import cross_val_predict\n",
    "from sklearn import metrics\n",
    "\n",
    "from scipy import interp"
   ]
  },
  {
   "cell_type": "code",
   "execution_count": 2,
   "metadata": {
    "collapsed": true
   },
   "outputs": [],
   "source": [
    "df = pd.read_csv('gene_data_ct.csv')"
   ]
  },
  {
   "cell_type": "code",
   "execution_count": 3,
   "metadata": {
    "collapsed": false
   },
   "outputs": [
    {
     "data": {
      "text/html": [
       "<div>\n",
       "<style>\n",
       "    .dataframe thead tr:only-child th {\n",
       "        text-align: right;\n",
       "    }\n",
       "\n",
       "    .dataframe thead th {\n",
       "        text-align: left;\n",
       "    }\n",
       "\n",
       "    .dataframe tbody tr th {\n",
       "        vertical-align: top;\n",
       "    }\n",
       "</style>\n",
       "<table border=\"1\" class=\"dataframe\">\n",
       "  <thead>\n",
       "    <tr style=\"text-align: right;\">\n",
       "      <th></th>\n",
       "      <th>Unnamed: 0</th>\n",
       "      <th>geneID1</th>\n",
       "      <th>geneID2</th>\n",
       "      <th>sequence1</th>\n",
       "      <th>sequence2</th>\n",
       "      <th>interaction</th>\n",
       "      <th>Sequence_x</th>\n",
       "      <th>CT_x</th>\n",
       "      <th>0_x</th>\n",
       "      <th>1_x</th>\n",
       "      <th>...</th>\n",
       "      <th>54_y</th>\n",
       "      <th>55_y</th>\n",
       "      <th>56_y</th>\n",
       "      <th>57_y</th>\n",
       "      <th>58_y</th>\n",
       "      <th>59_y</th>\n",
       "      <th>60_y</th>\n",
       "      <th>61_y</th>\n",
       "      <th>62_y</th>\n",
       "      <th>63_y</th>\n",
       "    </tr>\n",
       "  </thead>\n",
       "  <tbody>\n",
       "    <tr>\n",
       "      <th>0</th>\n",
       "      <td>0</td>\n",
       "      <td>PA1165</td>\n",
       "      <td>PA2424</td>\n",
       "      <td>ATGCGCGCCATGAACGACCGTCTCCCCTCCTTCTGCACCCCGCTGG...</td>\n",
       "      <td>ATGATGGACGCCTTCGAACTTCCCACCACCCTGGTCCAGGCCCTGC...</td>\n",
       "      <td>1</td>\n",
       "      <td>ATGCGCGCCATGAACGACCGTCTCCCCTCCTTCTGCACCCCGCTGG...</td>\n",
       "      <td>[0.03773584905660377, 0.018867924528301886, 0....</td>\n",
       "      <td>0.037736</td>\n",
       "      <td>0.018868</td>\n",
       "      <td>...</td>\n",
       "      <td>0.731259</td>\n",
       "      <td>0.205092</td>\n",
       "      <td>0.647808</td>\n",
       "      <td>0.25884</td>\n",
       "      <td>0.639321</td>\n",
       "      <td>0.998586</td>\n",
       "      <td>0.321075</td>\n",
       "      <td>0.454031</td>\n",
       "      <td>0.770863</td>\n",
       "      <td>0.302687</td>\n",
       "    </tr>\n",
       "    <tr>\n",
       "      <th>1</th>\n",
       "      <td>1</td>\n",
       "      <td>PA4520</td>\n",
       "      <td>PA2424</td>\n",
       "      <td>GTGAAGACCGTACTCTATCCCGCCATCGCGCTGATGAACCGGCTCA...</td>\n",
       "      <td>ATGATGGACGCCTTCGAACTTCCCACCACCCTGGTCCAGGCCCTGC...</td>\n",
       "      <td>0</td>\n",
       "      <td>GTGAAGACCGTACTCTATCCCGCCATCGCGCTGATGAACCGGCTCA...</td>\n",
       "      <td>[0.08080808080808081, 0.10101010101010101, 0.2...</td>\n",
       "      <td>0.080808</td>\n",
       "      <td>0.101010</td>\n",
       "      <td>...</td>\n",
       "      <td>0.731259</td>\n",
       "      <td>0.205092</td>\n",
       "      <td>0.647808</td>\n",
       "      <td>0.25884</td>\n",
       "      <td>0.639321</td>\n",
       "      <td>0.998586</td>\n",
       "      <td>0.321075</td>\n",
       "      <td>0.454031</td>\n",
       "      <td>0.770863</td>\n",
       "      <td>0.302687</td>\n",
       "    </tr>\n",
       "    <tr>\n",
       "      <th>2</th>\n",
       "      <td>2</td>\n",
       "      <td>PA1266</td>\n",
       "      <td>PA2424</td>\n",
       "      <td>ATGAGCGCCGACTACGACCTGCTGATCGTCGGTGCCGGCCCCGCCG...</td>\n",
       "      <td>ATGATGGACGCCTTCGAACTTCCCACCACCCTGGTCCAGGCCCTGC...</td>\n",
       "      <td>0</td>\n",
       "      <td>ATGAGCGCCGACTACGACCTGCTGATCGTCGGTGCCGGCCCCGCCG...</td>\n",
       "      <td>[0.0, 0.0392156862745098, 0.0784313725490196, ...</td>\n",
       "      <td>0.000000</td>\n",
       "      <td>0.039216</td>\n",
       "      <td>...</td>\n",
       "      <td>0.731259</td>\n",
       "      <td>0.205092</td>\n",
       "      <td>0.647808</td>\n",
       "      <td>0.25884</td>\n",
       "      <td>0.639321</td>\n",
       "      <td>0.998586</td>\n",
       "      <td>0.321075</td>\n",
       "      <td>0.454031</td>\n",
       "      <td>0.770863</td>\n",
       "      <td>0.302687</td>\n",
       "    </tr>\n",
       "    <tr>\n",
       "      <th>3</th>\n",
       "      <td>3</td>\n",
       "      <td>PA3585</td>\n",
       "      <td>PA2424</td>\n",
       "      <td>ATGTTCAAGGCGCTGATCGGCGCCGCCGTGGTCGTGCTCCTCGCCG...</td>\n",
       "      <td>ATGATGGACGCCTTCGAACTTCCCACCACCCTGGTCCAGGCCCTGC...</td>\n",
       "      <td>0</td>\n",
       "      <td>ATGTTCAAGGCGCTGATCGGCGCCGCCGTGGTCGTGCTCCTCGCCG...</td>\n",
       "      <td>[0.0, 0.0, 0.2631578947368421, 0.0526315789473...</td>\n",
       "      <td>0.000000</td>\n",
       "      <td>0.000000</td>\n",
       "      <td>...</td>\n",
       "      <td>0.731259</td>\n",
       "      <td>0.205092</td>\n",
       "      <td>0.647808</td>\n",
       "      <td>0.25884</td>\n",
       "      <td>0.639321</td>\n",
       "      <td>0.998586</td>\n",
       "      <td>0.321075</td>\n",
       "      <td>0.454031</td>\n",
       "      <td>0.770863</td>\n",
       "      <td>0.302687</td>\n",
       "    </tr>\n",
       "    <tr>\n",
       "      <th>4</th>\n",
       "      <td>4</td>\n",
       "      <td>PA2399</td>\n",
       "      <td>PA2424</td>\n",
       "      <td>GTGCAAGCACTCATAGAGAAGGTGGGCTCCCTTTCCCCCCAGGAAA...</td>\n",
       "      <td>ATGATGGACGCCTTCGAACTTCCCACCACCCTGGTCCAGGCCCTGC...</td>\n",
       "      <td>1</td>\n",
       "      <td>GTGCAAGCACTCATAGAGAAGGTGGGCTCCCTTTCCCCCCAGGAAA...</td>\n",
       "      <td>[0.04559270516717325, 0.060790273556231005, 0....</td>\n",
       "      <td>0.045593</td>\n",
       "      <td>0.060790</td>\n",
       "      <td>...</td>\n",
       "      <td>0.731259</td>\n",
       "      <td>0.205092</td>\n",
       "      <td>0.647808</td>\n",
       "      <td>0.25884</td>\n",
       "      <td>0.639321</td>\n",
       "      <td>0.998586</td>\n",
       "      <td>0.321075</td>\n",
       "      <td>0.454031</td>\n",
       "      <td>0.770863</td>\n",
       "      <td>0.302687</td>\n",
       "    </tr>\n",
       "  </tbody>\n",
       "</table>\n",
       "<p>5 rows × 138 columns</p>\n",
       "</div>"
      ],
      "text/plain": [
       "   Unnamed: 0 geneID1 geneID2  \\\n",
       "0           0  PA1165  PA2424   \n",
       "1           1  PA4520  PA2424   \n",
       "2           2  PA1266  PA2424   \n",
       "3           3  PA3585  PA2424   \n",
       "4           4  PA2399  PA2424   \n",
       "\n",
       "                                           sequence1  \\\n",
       "0  ATGCGCGCCATGAACGACCGTCTCCCCTCCTTCTGCACCCCGCTGG...   \n",
       "1  GTGAAGACCGTACTCTATCCCGCCATCGCGCTGATGAACCGGCTCA...   \n",
       "2  ATGAGCGCCGACTACGACCTGCTGATCGTCGGTGCCGGCCCCGCCG...   \n",
       "3  ATGTTCAAGGCGCTGATCGGCGCCGCCGTGGTCGTGCTCCTCGCCG...   \n",
       "4  GTGCAAGCACTCATAGAGAAGGTGGGCTCCCTTTCCCCCCAGGAAA...   \n",
       "\n",
       "                                           sequence2  interaction  \\\n",
       "0  ATGATGGACGCCTTCGAACTTCCCACCACCCTGGTCCAGGCCCTGC...            1   \n",
       "1  ATGATGGACGCCTTCGAACTTCCCACCACCCTGGTCCAGGCCCTGC...            0   \n",
       "2  ATGATGGACGCCTTCGAACTTCCCACCACCCTGGTCCAGGCCCTGC...            0   \n",
       "3  ATGATGGACGCCTTCGAACTTCCCACCACCCTGGTCCAGGCCCTGC...            0   \n",
       "4  ATGATGGACGCCTTCGAACTTCCCACCACCCTGGTCCAGGCCCTGC...            1   \n",
       "\n",
       "                                          Sequence_x  \\\n",
       "0  ATGCGCGCCATGAACGACCGTCTCCCCTCCTTCTGCACCCCGCTGG...   \n",
       "1  GTGAAGACCGTACTCTATCCCGCCATCGCGCTGATGAACCGGCTCA...   \n",
       "2  ATGAGCGCCGACTACGACCTGCTGATCGTCGGTGCCGGCCCCGCCG...   \n",
       "3  ATGTTCAAGGCGCTGATCGGCGCCGCCGTGGTCGTGCTCCTCGCCG...   \n",
       "4  GTGCAAGCACTCATAGAGAAGGTGGGCTCCCTTTCCCCCCAGGAAA...   \n",
       "\n",
       "                                                CT_x       0_x       1_x  \\\n",
       "0  [0.03773584905660377, 0.018867924528301886, 0....  0.037736  0.018868   \n",
       "1  [0.08080808080808081, 0.10101010101010101, 0.2...  0.080808  0.101010   \n",
       "2  [0.0, 0.0392156862745098, 0.0784313725490196, ...  0.000000  0.039216   \n",
       "3  [0.0, 0.0, 0.2631578947368421, 0.0526315789473...  0.000000  0.000000   \n",
       "4  [0.04559270516717325, 0.060790273556231005, 0....  0.045593  0.060790   \n",
       "\n",
       "     ...         54_y      55_y      56_y     57_y      58_y      59_y  \\\n",
       "0    ...     0.731259  0.205092  0.647808  0.25884  0.639321  0.998586   \n",
       "1    ...     0.731259  0.205092  0.647808  0.25884  0.639321  0.998586   \n",
       "2    ...     0.731259  0.205092  0.647808  0.25884  0.639321  0.998586   \n",
       "3    ...     0.731259  0.205092  0.647808  0.25884  0.639321  0.998586   \n",
       "4    ...     0.731259  0.205092  0.647808  0.25884  0.639321  0.998586   \n",
       "\n",
       "       60_y      61_y      62_y      63_y  \n",
       "0  0.321075  0.454031  0.770863  0.302687  \n",
       "1  0.321075  0.454031  0.770863  0.302687  \n",
       "2  0.321075  0.454031  0.770863  0.302687  \n",
       "3  0.321075  0.454031  0.770863  0.302687  \n",
       "4  0.321075  0.454031  0.770863  0.302687  \n",
       "\n",
       "[5 rows x 138 columns]"
      ]
     },
     "execution_count": 3,
     "metadata": {},
     "output_type": "execute_result"
    }
   ],
   "source": [
    "df.head()"
   ]
  },
  {
   "cell_type": "code",
   "execution_count": 4,
   "metadata": {
    "collapsed": false
   },
   "outputs": [
    {
     "data": {
      "text/html": [
       "<div>\n",
       "<style>\n",
       "    .dataframe thead tr:only-child th {\n",
       "        text-align: right;\n",
       "    }\n",
       "\n",
       "    .dataframe thead th {\n",
       "        text-align: left;\n",
       "    }\n",
       "\n",
       "    .dataframe tbody tr th {\n",
       "        vertical-align: top;\n",
       "    }\n",
       "</style>\n",
       "<table border=\"1\" class=\"dataframe\">\n",
       "  <thead>\n",
       "    <tr style=\"text-align: right;\">\n",
       "      <th></th>\n",
       "      <th>interaction</th>\n",
       "      <th>0_x</th>\n",
       "      <th>1_x</th>\n",
       "      <th>2_x</th>\n",
       "      <th>3_x</th>\n",
       "      <th>4_x</th>\n",
       "      <th>5_x</th>\n",
       "      <th>6_x</th>\n",
       "      <th>7_x</th>\n",
       "      <th>8_x</th>\n",
       "      <th>...</th>\n",
       "      <th>54_y</th>\n",
       "      <th>55_y</th>\n",
       "      <th>56_y</th>\n",
       "      <th>57_y</th>\n",
       "      <th>58_y</th>\n",
       "      <th>59_y</th>\n",
       "      <th>60_y</th>\n",
       "      <th>61_y</th>\n",
       "      <th>62_y</th>\n",
       "      <th>63_y</th>\n",
       "    </tr>\n",
       "  </thead>\n",
       "  <tbody>\n",
       "    <tr>\n",
       "      <th>0</th>\n",
       "      <td>1</td>\n",
       "      <td>0.037736</td>\n",
       "      <td>0.018868</td>\n",
       "      <td>0.132075</td>\n",
       "      <td>0.150943</td>\n",
       "      <td>0.018868</td>\n",
       "      <td>0.018868</td>\n",
       "      <td>0.132075</td>\n",
       "      <td>0.094340</td>\n",
       "      <td>0.037736</td>\n",
       "      <td>...</td>\n",
       "      <td>0.731259</td>\n",
       "      <td>0.205092</td>\n",
       "      <td>0.647808</td>\n",
       "      <td>0.25884</td>\n",
       "      <td>0.639321</td>\n",
       "      <td>0.998586</td>\n",
       "      <td>0.321075</td>\n",
       "      <td>0.454031</td>\n",
       "      <td>0.770863</td>\n",
       "      <td>0.302687</td>\n",
       "    </tr>\n",
       "    <tr>\n",
       "      <th>1</th>\n",
       "      <td>0</td>\n",
       "      <td>0.080808</td>\n",
       "      <td>0.101010</td>\n",
       "      <td>0.222222</td>\n",
       "      <td>0.262626</td>\n",
       "      <td>0.070707</td>\n",
       "      <td>0.030303</td>\n",
       "      <td>0.222222</td>\n",
       "      <td>0.454545</td>\n",
       "      <td>0.272727</td>\n",
       "      <td>...</td>\n",
       "      <td>0.731259</td>\n",
       "      <td>0.205092</td>\n",
       "      <td>0.647808</td>\n",
       "      <td>0.25884</td>\n",
       "      <td>0.639321</td>\n",
       "      <td>0.998586</td>\n",
       "      <td>0.321075</td>\n",
       "      <td>0.454031</td>\n",
       "      <td>0.770863</td>\n",
       "      <td>0.302687</td>\n",
       "    </tr>\n",
       "    <tr>\n",
       "      <th>2</th>\n",
       "      <td>0</td>\n",
       "      <td>0.000000</td>\n",
       "      <td>0.039216</td>\n",
       "      <td>0.078431</td>\n",
       "      <td>0.117647</td>\n",
       "      <td>0.019608</td>\n",
       "      <td>0.009804</td>\n",
       "      <td>0.088235</td>\n",
       "      <td>0.068627</td>\n",
       "      <td>0.068627</td>\n",
       "      <td>...</td>\n",
       "      <td>0.731259</td>\n",
       "      <td>0.205092</td>\n",
       "      <td>0.647808</td>\n",
       "      <td>0.25884</td>\n",
       "      <td>0.639321</td>\n",
       "      <td>0.998586</td>\n",
       "      <td>0.321075</td>\n",
       "      <td>0.454031</td>\n",
       "      <td>0.770863</td>\n",
       "      <td>0.302687</td>\n",
       "    </tr>\n",
       "    <tr>\n",
       "      <th>3</th>\n",
       "      <td>0</td>\n",
       "      <td>0.000000</td>\n",
       "      <td>0.000000</td>\n",
       "      <td>0.263158</td>\n",
       "      <td>0.052632</td>\n",
       "      <td>0.000000</td>\n",
       "      <td>0.052632</td>\n",
       "      <td>0.105263</td>\n",
       "      <td>0.368421</td>\n",
       "      <td>0.157895</td>\n",
       "      <td>...</td>\n",
       "      <td>0.731259</td>\n",
       "      <td>0.205092</td>\n",
       "      <td>0.647808</td>\n",
       "      <td>0.25884</td>\n",
       "      <td>0.639321</td>\n",
       "      <td>0.998586</td>\n",
       "      <td>0.321075</td>\n",
       "      <td>0.454031</td>\n",
       "      <td>0.770863</td>\n",
       "      <td>0.302687</td>\n",
       "    </tr>\n",
       "    <tr>\n",
       "      <th>4</th>\n",
       "      <td>1</td>\n",
       "      <td>0.045593</td>\n",
       "      <td>0.060790</td>\n",
       "      <td>0.179331</td>\n",
       "      <td>0.273556</td>\n",
       "      <td>0.072948</td>\n",
       "      <td>0.063830</td>\n",
       "      <td>0.227964</td>\n",
       "      <td>0.334347</td>\n",
       "      <td>0.127660</td>\n",
       "      <td>...</td>\n",
       "      <td>0.731259</td>\n",
       "      <td>0.205092</td>\n",
       "      <td>0.647808</td>\n",
       "      <td>0.25884</td>\n",
       "      <td>0.639321</td>\n",
       "      <td>0.998586</td>\n",
       "      <td>0.321075</td>\n",
       "      <td>0.454031</td>\n",
       "      <td>0.770863</td>\n",
       "      <td>0.302687</td>\n",
       "    </tr>\n",
       "  </tbody>\n",
       "</table>\n",
       "<p>5 rows × 129 columns</p>\n",
       "</div>"
      ],
      "text/plain": [
       "   interaction       0_x       1_x       2_x       3_x       4_x       5_x  \\\n",
       "0            1  0.037736  0.018868  0.132075  0.150943  0.018868  0.018868   \n",
       "1            0  0.080808  0.101010  0.222222  0.262626  0.070707  0.030303   \n",
       "2            0  0.000000  0.039216  0.078431  0.117647  0.019608  0.009804   \n",
       "3            0  0.000000  0.000000  0.263158  0.052632  0.000000  0.052632   \n",
       "4            1  0.045593  0.060790  0.179331  0.273556  0.072948  0.063830   \n",
       "\n",
       "        6_x       7_x       8_x    ...         54_y      55_y      56_y  \\\n",
       "0  0.132075  0.094340  0.037736    ...     0.731259  0.205092  0.647808   \n",
       "1  0.222222  0.454545  0.272727    ...     0.731259  0.205092  0.647808   \n",
       "2  0.088235  0.068627  0.068627    ...     0.731259  0.205092  0.647808   \n",
       "3  0.105263  0.368421  0.157895    ...     0.731259  0.205092  0.647808   \n",
       "4  0.227964  0.334347  0.127660    ...     0.731259  0.205092  0.647808   \n",
       "\n",
       "      57_y      58_y      59_y      60_y      61_y      62_y      63_y  \n",
       "0  0.25884  0.639321  0.998586  0.321075  0.454031  0.770863  0.302687  \n",
       "1  0.25884  0.639321  0.998586  0.321075  0.454031  0.770863  0.302687  \n",
       "2  0.25884  0.639321  0.998586  0.321075  0.454031  0.770863  0.302687  \n",
       "3  0.25884  0.639321  0.998586  0.321075  0.454031  0.770863  0.302687  \n",
       "4  0.25884  0.639321  0.998586  0.321075  0.454031  0.770863  0.302687  \n",
       "\n",
       "[5 rows x 129 columns]"
      ]
     },
     "execution_count": 4,
     "metadata": {},
     "output_type": "execute_result"
    }
   ],
   "source": [
    "df_modeling = df.drop(['Unnamed: 0', 'geneID1', 'geneID2', 'sequence1', 'sequence2','Sequence_x', 'CT_x', 'Sequence_y', 'CT_y'], axis=1)\n",
    "df_modeling.head()"
   ]
  },
  {
   "cell_type": "code",
   "execution_count": 5,
   "metadata": {
    "collapsed": false
   },
   "outputs": [
    {
     "name": "stdout",
     "output_type": "stream",
     "text": [
      "        0_x       1_x       2_x       3_x       4_x       5_x       6_x  \\\n",
      "0  0.037736  0.018868  0.132075  0.150943  0.018868  0.018868  0.132075   \n",
      "1  0.080808  0.101010  0.222222  0.262626  0.070707  0.030303  0.222222   \n",
      "2  0.000000  0.039216  0.078431  0.117647  0.019608  0.009804  0.088235   \n",
      "3  0.000000  0.000000  0.263158  0.052632  0.000000  0.052632  0.105263   \n",
      "4  0.045593  0.060790  0.179331  0.273556  0.072948  0.063830  0.227964   \n",
      "\n",
      "        7_x       8_x       9_x    ...         54_y      55_y      56_y  \\\n",
      "0  0.094340  0.037736  0.056604    ...     0.731259  0.205092  0.647808   \n",
      "1  0.454545  0.272727  0.191919    ...     0.731259  0.205092  0.647808   \n",
      "2  0.068627  0.068627  0.009804    ...     0.731259  0.205092  0.647808   \n",
      "3  0.368421  0.157895  0.000000    ...     0.731259  0.205092  0.647808   \n",
      "4  0.334347  0.127660  0.148936    ...     0.731259  0.205092  0.647808   \n",
      "\n",
      "      57_y      58_y      59_y      60_y      61_y      62_y      63_y  \n",
      "0  0.25884  0.639321  0.998586  0.321075  0.454031  0.770863  0.302687  \n",
      "1  0.25884  0.639321  0.998586  0.321075  0.454031  0.770863  0.302687  \n",
      "2  0.25884  0.639321  0.998586  0.321075  0.454031  0.770863  0.302687  \n",
      "3  0.25884  0.639321  0.998586  0.321075  0.454031  0.770863  0.302687  \n",
      "4  0.25884  0.639321  0.998586  0.321075  0.454031  0.770863  0.302687  \n",
      "\n",
      "[5 rows x 128 columns]\n",
      "0    1\n",
      "1    0\n",
      "2    0\n",
      "3    0\n",
      "4    1\n",
      "Name: interaction, dtype: int64\n"
     ]
    }
   ],
   "source": [
    "X = df_modeling.drop('interaction', axis=1)\n",
    "y = df_modeling['interaction']\n",
    "print X.head()\n",
    "print y.head()"
   ]
  },
  {
   "cell_type": "code",
   "execution_count": 6,
   "metadata": {
    "collapsed": false
   },
   "outputs": [],
   "source": [
    "X_train, X_test, y_train, y_test = train_test_split(X, y, test_size=0.2)"
   ]
  },
  {
   "cell_type": "code",
   "execution_count": 7,
   "metadata": {
    "collapsed": false
   },
   "outputs": [
    {
     "data": {
      "text/plain": [
       "(25944, 128)"
      ]
     },
     "execution_count": 7,
     "metadata": {},
     "output_type": "execute_result"
    }
   ],
   "source": [
    "X_train.shape"
   ]
  },
  {
   "cell_type": "code",
   "execution_count": 8,
   "metadata": {
    "collapsed": false
   },
   "outputs": [
    {
     "data": {
      "text/plain": [
       "(6486, 128)"
      ]
     },
     "execution_count": 8,
     "metadata": {},
     "output_type": "execute_result"
    }
   ],
   "source": [
    "X_test.shape"
   ]
  },
  {
   "cell_type": "code",
   "execution_count": 9,
   "metadata": {
    "collapsed": false
   },
   "outputs": [
    {
     "data": {
      "text/plain": [
       "(25944,)"
      ]
     },
     "execution_count": 9,
     "metadata": {},
     "output_type": "execute_result"
    }
   ],
   "source": [
    "y_train.shape"
   ]
  },
  {
   "cell_type": "code",
   "execution_count": 10,
   "metadata": {
    "collapsed": true
   },
   "outputs": [],
   "source": [
    "clf1 = LogisticRegression(random_state=123)\n",
    "clf2 = RandomForestClassifier(random_state=123)\n",
    "clf3 = GaussianNB()"
   ]
  },
  {
   "cell_type": "code",
   "execution_count": 11,
   "metadata": {
    "collapsed": false
   },
   "outputs": [],
   "source": [
    "eclf = VotingClassifier(estimators=[('lr', clf1), ('rf', clf2), ('gnb', clf3)],\n",
    "                        voting='soft',\n",
    "                        weights=[1, 1, 1])"
   ]
  },
  {
   "cell_type": "code",
   "execution_count": 12,
   "metadata": {
    "collapsed": true
   },
   "outputs": [],
   "source": [
    "# predict class probabilities for all classifiers\n",
    "probas = [c.fit(X_train, y_train).predict_proba(X_test) for c in (clf1, clf2, clf3, eclf)]"
   ]
  },
  {
   "cell_type": "code",
   "execution_count": 13,
   "metadata": {
    "collapsed": false
   },
   "outputs": [
    {
     "name": "stdout",
     "output_type": "stream",
     "text": [
      "[[ 0.8487442   0.1512558 ]\n",
      " [ 0.29564754  0.70435246]\n",
      " [ 0.36248469  0.63751531]\n",
      " ..., \n",
      " [ 0.85168417  0.14831583]\n",
      " [ 0.21233138  0.78766862]\n",
      " [ 0.84078687  0.15921313]]\n",
      "[ 0.1512558   0.70435246  0.63751531 ...,  0.14831583  0.78766862\n",
      "  0.15921313]\n"
     ]
    }
   ],
   "source": [
    "probas_clf1 = probas[0]\n",
    "print probas_clf1\n",
    "ntest = y_test.shape\n",
    "print probas_clf1[:,1]"
   ]
  },
  {
   "cell_type": "code",
   "execution_count": 14,
   "metadata": {
    "collapsed": false
   },
   "outputs": [
    {
     "name": "stdout",
     "output_type": "stream",
     "text": [
      "[ 0.  1.  1. ...,  0.  1.  0.]\n"
     ]
    }
   ],
   "source": [
    "y_clf1 = np.zeros((ntest))\n",
    "ids = np.where(probas_clf1[:,1]>0.5)\n",
    "y_clf1[ids] = 1\n",
    "print y_clf1"
   ]
  },
  {
   "cell_type": "code",
   "execution_count": 15,
   "metadata": {
    "collapsed": false
   },
   "outputs": [
    {
     "data": {
      "text/plain": [
       "0.69873573851372184"
      ]
     },
     "execution_count": 15,
     "metadata": {},
     "output_type": "execute_result"
    }
   ],
   "source": [
    "accuracy_score(y_test, y_clf1)"
   ]
  },
  {
   "cell_type": "code",
   "execution_count": 16,
   "metadata": {
    "collapsed": false
   },
   "outputs": [
    {
     "data": {
      "text/plain": [
       "0.93678692568609312"
      ]
     },
     "execution_count": 16,
     "metadata": {},
     "output_type": "execute_result"
    }
   ],
   "source": [
    "probas_clf2 = probas[1]\n",
    "# print probas_clf2\n",
    "# print probas_clf2[:,1]\n",
    "y_clf2 = np.zeros((ntest))\n",
    "ids = np.where(probas_clf2[:,1]>0.5)\n",
    "y_clf2[ids] = 1\n",
    "# print y_clf2\n",
    "accuracy_score(y_test, y_clf2)"
   ]
  },
  {
   "cell_type": "code",
   "execution_count": 17,
   "metadata": {
    "collapsed": false
   },
   "outputs": [
    {
     "data": {
      "text/plain": [
       "0.65186555658341039"
      ]
     },
     "execution_count": 17,
     "metadata": {},
     "output_type": "execute_result"
    }
   ],
   "source": [
    "probas_clf3 = probas[2]\n",
    "# print probas_clf3\n",
    "# print probas_clf3[:,1]\n",
    "y_clf3 = np.zeros((ntest))\n",
    "ids = np.where(probas_clf3[:,1]>0.5)\n",
    "y_clf3[ids] = 1\n",
    "# print y_clf3\n",
    "accuracy_score(y_test, y_clf3)"
   ]
  },
  {
   "cell_type": "code",
   "execution_count": 18,
   "metadata": {
    "collapsed": false
   },
   "outputs": [
    {
     "data": {
      "text/plain": [
       "0.73203823620104846"
      ]
     },
     "execution_count": 18,
     "metadata": {},
     "output_type": "execute_result"
    }
   ],
   "source": [
    "probas_eclf = probas[3]\n",
    "# print probas_clf3\n",
    "# print probas_clf3[:,1]\n",
    "y_eclf = np.zeros((ntest))\n",
    "ids = np.where(probas_eclf[:,1]>0.5)\n",
    "y_eclf[ids] = 1\n",
    "# print y_clf3\n",
    "accuracy_score(y_test, y_eclf)"
   ]
  },
  {
   "cell_type": "code",
   "execution_count": 19,
   "metadata": {
    "collapsed": false
   },
   "outputs": [
    {
     "name": "stdout",
     "output_type": "stream",
     "text": [
      "[0.2956475419863418, 0.0, 0.051437109400638822, 0.11569488379566022]\n",
      "[0.7043524580136582, 1.0, 0.9485628905993635, 0.8843051162043406]\n"
     ]
    }
   ],
   "source": [
    "# get class probabilities for the first sample in the dataset\n",
    "class1_1 = [pr[1, 0] for pr in probas]\n",
    "print class1_1\n",
    "class2_1 = [pr[1, 1] for pr in probas]\n",
    "print class2_1"
   ]
  },
  {
   "cell_type": "code",
   "execution_count": 20,
   "metadata": {
    "collapsed": false
   },
   "outputs": [
    {
     "data": {
      "image/png": "[encoded data removed]",
      "text/plain": [
       "<matplotlib.figure.Figure at 0x110d50190>"
      ]
     },
     "metadata": {},
     "output_type": "display_data"
    }
   ],
   "source": [
    "# plotting\n",
    "\n",
    "N = 4  # number of groups\n",
    "ind = np.arange(N)  # group positions\n",
    "width = 0.35  # bar width\n",
    "\n",
    "fig, ax = plt.subplots()\n",
    "\n",
    "# bars for classifier 1-3\n",
    "p1 = ax.bar(ind, np.hstack(([class1_1[:-1], [0]])), width,\n",
    "            color='green', edgecolor='k')\n",
    "p2 = ax.bar(ind + width, np.hstack(([class2_1[:-1], [0]])), width,\n",
    "            color='lightgreen', edgecolor='k')\n",
    "\n",
    "# bars for VotingClassifier\n",
    "p3 = ax.bar(ind, [0, 0, 0, class1_1[-1]], width,\n",
    "            color='blue', edgecolor='k')\n",
    "p4 = ax.bar(ind + width, [0, 0, 0, class2_1[-1]], width,\n",
    "            color='steelblue', edgecolor='k')\n",
    "\n",
    "# plot annotations\n",
    "plt.axvline(2.8, color='k', linestyle='dashed')\n",
    "ax.set_xticks(ind + width)\n",
    "ax.set_xticklabels(['LogisticRegression\\nweight 1',\n",
    "                    'GaussianNB\\nweight 1',\n",
    "                    'RandomForestClassifier\\nweight 1',\n",
    "                    'VotingClassifier\\n(average probabilities)'],\n",
    "                   rotation=40,\n",
    "                   ha='right')\n",
    "plt.ylim([0, 1])\n",
    "plt.title('Class probabilities for sample 1 by different classifiers')\n",
    "plt.legend([p1[0], p2[0]], ['class 0', 'class 1'], loc='upper left')\n",
    "plt.show()"
   ]
  },
  {
   "cell_type": "markdown",
   "metadata": {
    "collapsed": true
   },
   "source": [
    "### Doing stratified k fold cross validation for each classifier"
   ]
  },
  {
   "cell_type": "code",
   "execution_count": 21,
   "metadata": {
    "collapsed": false
   },
   "outputs": [
    {
     "name": "stdout",
     "output_type": "stream",
     "text": [
      "(25944, 128)\n",
      "(25944,)\n"
     ]
    }
   ],
   "source": [
    "X_train, X_test, y_train, y_test = train_test_split(X, y, test_size=0.2)\n",
    "# print X_train.head()\n",
    "# print y_train.head()\n",
    "print X_train.shape\n",
    "print y_train.shape"
   ]
  },
  {
   "cell_type": "code",
   "execution_count": 33,
   "metadata": {
    "collapsed": false
   },
   "outputs": [
    {
     "name": "stdout",
     "output_type": "stream",
     "text": [
      "(25944, 128)\n",
      "(25944,)\n"
     ]
    }
   ],
   "source": [
    "Xmat = X_train.as_matrix()\n",
    "ymat = y_train.as_matrix()\n",
    "print Xmat.shape\n",
    "print ymat.shape"
   ]
  },
  {
   "cell_type": "code",
   "execution_count": 36,
   "metadata": {
    "collapsed": false
   },
   "outputs": [
    {
     "name": "stdout",
     "output_type": "stream",
     "text": [
      "(5190, 2)\n",
      "(5189, 2)\n",
      "(5189, 2)\n",
      "(5188, 2)\n",
      "(5188, 2)\n"
     ]
    },
    {
     "data": {
      "image/png": "[encoded data removed]",
      "text/plain": [
       "<matplotlib.figure.Figure at 0x110c58790>"
      ]
     },
     "metadata": {},
     "output_type": "display_data"
    }
   ],
   "source": [
    "# #############################################################################\n",
    "# Classification and ROC analysis\n",
    "\n",
    "# Run classifier with cross-validation and plot ROC curves\n",
    "cv = StratifiedKFold(n_splits=5)\n",
    "# cv = KFold(n_splits=6)\n",
    "# clf5 = LogisticRegression(random_state=42)\n",
    "clf5 = RandomForestClassifier(random_state=42)\n",
    "# clf5 = svm.SVC(kernel='linear', probability=True, random_state=42)\n",
    "\n",
    "tprs = []\n",
    "aucs = []\n",
    "mean_fpr = np.linspace(0, 1, 100)\n",
    "i = 0\n",
    "for train, test in cv.split(Xmat, ymat):\n",
    "#     print train.shape\n",
    "#     print test.shape\n",
    "#     print(\"TRAIN:\", train, \"TEST:\", test)\n",
    "#     X_train, X_test = Xmat[train], Xmat[test]\n",
    "#     y_train, y_test = ymat[train], ymat[test]\n",
    "#     y[train]\n",
    "#     clf5.fit(X, y)\n",
    "    probas_ = clf5.fit(Xmat[train], ymat[train]).predict_proba(Xmat[test])\n",
    "    print probas_.shape\n",
    "    # Compute ROC curve and area the curve\n",
    "    fpr, tpr, thresholds = roc_curve(y[test], probas_[:, 1])\n",
    "    tprs.append(interp(mean_fpr, fpr, tpr))\n",
    "    tprs[-1][0] = 0.0\n",
    "    roc_auc = auc(fpr, tpr)\n",
    "    aucs.append(roc_auc)\n",
    "    plt.plot(fpr, tpr, lw=1, alpha=0.3,\n",
    "             label='ROC fold %d (AUC = %0.2f)' % (i, roc_auc))\n",
    "\n",
    "    i += 1\n",
    "plt.plot([0, 1], [0, 1], linestyle='--', lw=2, color='r',\n",
    "         label='Luck', alpha=.8)\n",
    "\n",
    "mean_tpr = np.mean(tprs, axis=0)\n",
    "mean_tpr[-1] = 1.0\n",
    "mean_auc = auc(mean_fpr, mean_tpr)\n",
    "std_auc = np.std(aucs)\n",
    "plt.plot(mean_fpr, mean_tpr, color='b',\n",
    "         label=r'Mean ROC (AUC = %0.2f $\\pm$ %0.2f)' % (mean_auc, std_auc),\n",
    "         lw=2, alpha=.8)\n",
    "\n",
    "std_tpr = np.std(tprs, axis=0)\n",
    "tprs_upper = np.minimum(mean_tpr + std_tpr, 1)\n",
    "tprs_lower = np.maximum(mean_tpr - std_tpr, 0)\n",
    "plt.fill_between(mean_fpr, tprs_lower, tprs_upper, color='grey', alpha=.2,\n",
    "                 label=r'$\\pm$ 1 std. dev.')\n",
    "\n",
    "plt.xlim([-0.05, 1.05])\n",
    "plt.ylim([-0.05, 1.05])\n",
    "plt.xlabel('False Positive Rate')\n",
    "plt.ylabel('True Positive Rate')\n",
    "plt.title('Receiver operating characteristic curve')\n",
    "plt.legend(loc=\"lower right\")\n",
    "plt.show()\n"
   ]
  },
  {
   "cell_type": "code",
   "execution_count": 67,
   "metadata": {
    "collapsed": false
   },
   "outputs": [
    {
     "name": "stdout",
     "output_type": "stream",
     "text": [
      "[  0.00000000e+00   0.00000000e+00   3.66568915e-04   2.56598240e-03\n",
      "   8.06451613e-03   2.30938416e-02   6.04838710e-02   1.56158358e-01\n",
      "   3.63636364e-01   7.04912023e-01   7.05278592e-01   1.00000000e+00] [  7.47104968e-04   2.24131490e-03   7.84460217e-03   3.47403810e-02\n",
      "   8.06873366e-02   1.56892043e-01   2.73813971e-01   4.17631677e-01\n",
      "   6.00672394e-01   8.18453493e-01   8.18453493e-01   1.00000000e+00] [ 1.    0.9   0.8   0.7   0.6   0.5   0.4   0.3   0.2   0.1   0.04  0.  ]\n"
     ]
    }
   ],
   "source": [
    "print fpr, tpr, thresholds"
   ]
  },
  {
   "cell_type": "code",
   "execution_count": 34,
   "metadata": {
    "collapsed": false
   },
   "outputs": [
    {
     "data": {
      "text/plain": [
       "0.92264107308048104"
      ]
     },
     "execution_count": 34,
     "metadata": {},
     "output_type": "execute_result"
    }
   ],
   "source": [
    "predicted = cross_val_predict(clf5, Xmat, ymat, cv=5)\n",
    "metrics.accuracy_score(ymat, predicted) "
   ]
  },
  {
   "cell_type": "code",
   "execution_count": 35,
   "metadata": {
    "collapsed": false
   },
   "outputs": [
    {
     "data": {
      "text/plain": [
       "RandomForestClassifier(bootstrap=True, class_weight=None, criterion='gini',\n",
       "            max_depth=None, max_features='auto', max_leaf_nodes=None,\n",
       "            min_impurity_decrease=0.0, min_impurity_split=None,\n",
       "            min_samples_leaf=1, min_samples_split=2,\n",
       "            min_weight_fraction_leaf=0.0, n_estimators=10, n_jobs=1,\n",
       "            oob_score=False, random_state=42, verbose=0, warm_start=False)"
      ]
     },
     "execution_count": 35,
     "metadata": {},
     "output_type": "execute_result"
    }
   ],
   "source": [
    "clf5"
   ]
  },
  {
   "cell_type": "code",
   "execution_count": null,
   "metadata": {
    "collapsed": true
   },
   "outputs": [],
   "source": []
  }
 ],
 "metadata": {
  "anaconda-cloud": {},
  "kernelspec": {
   "display_name": "Python [Root]",
   "language": "python",
   "name": "Python [Root]"
  },
  "language_info": {
   "codemirror_mode": {
    "name": "ipython",
    "version": 2
   },
   "file_extension": ".py",
   "mimetype": "text/x-python",
   "name": "python",
   "nbconvert_exporter": "python",
   "pygments_lexer": "ipython2",
   "version": "2.7.12"
  }
 },
 "nbformat": 4,
 "nbformat_minor": 0
}
